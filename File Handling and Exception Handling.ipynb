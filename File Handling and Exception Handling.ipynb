{
 "cells": [
  {
   "cell_type": "code",
   "execution_count": 1,
   "id": "da47943a-6f7f-4731-9800-9cc320687d39",
   "metadata": {
    "scrolled": true
   },
   "outputs": [
    {
     "name": "stdout",
     "output_type": "stream",
     "text": [
      "❌ The file 'input.txt' was not found.\n"
     ]
    }
   ],
   "source": [
    "try:\n",
    "    \n",
    "    with open(\"input.txt\", \"r\") as infile:\n",
    "        content = infile.read()\n",
    "\n",
    "   \n",
    "    modified_content = content.upper()\n",
    " \n",
    "    with open(\"output.txt\", \"w\") as outfile:\n",
    "        outfile.write(modified_content)\n",
    "\n",
    "    print(\"File has been read, modified, and saved as output.txt ✅\")\n",
    "\n",
    "except FileNotFoundError:\n",
    "    print(\"❌ The file 'input.txt' was not found.\")"
   ]
  },
  {
   "cell_type": "code",
   "execution_count": 3,
   "id": "19216c7a-edda-402e-a23a-d07ad53d7263",
   "metadata": {},
   "outputs": [
    {
     "name": "stdin",
     "output_type": "stream",
     "text": [
      "Enter the filename:  downloads\n"
     ]
    },
    {
     "name": "stdout",
     "output_type": "stream",
     "text": [
      "❌ Error: You don't have permission to read 'downloads'.\n"
     ]
    }
   ],
   "source": [
    "\n",
    "filename = input(\"Enter the filename: \")\n",
    "\n",
    "try:\n",
    "    with open(filename, \"r\") as f:\n",
    "        print(\"📄 File content:\")\n",
    "        print(f.read())\n",
    "except FileNotFoundError:\n",
    "    print(f\"❌ Error: The file '{filename}' does not exist.\")\n",
    "except PermissionError:\n",
    "    print(f\"❌ Error: You don't have permission to read '{filename}'.\")\n",
    "except Exception as e:\n",
    "    print(f\"⚠️ An unexpected error occurred: {e}\")\n"
   ]
  },
  {
   "cell_type": "code",
   "execution_count": null,
   "id": "fcf42403-f7ec-4f6b-987b-2ab138a061bc",
   "metadata": {},
   "outputs": [],
   "source": []
  }
 ],
 "metadata": {
  "kernelspec": {
   "display_name": "Python 3 (ipykernel)",
   "language": "python",
   "name": "python3"
  },
  "language_info": {
   "codemirror_mode": {
    "name": "ipython",
    "version": 3
   },
   "file_extension": ".py",
   "mimetype": "text/x-python",
   "name": "python",
   "nbconvert_exporter": "python",
   "pygments_lexer": "ipython3",
   "version": "3.12.4"
  }
 },
 "nbformat": 4,
 "nbformat_minor": 5
}
